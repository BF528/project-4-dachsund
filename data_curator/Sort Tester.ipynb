{
 "cells": [
  {
   "cell_type": "code",
   "execution_count": 23,
   "metadata": {},
   "outputs": [
    {
     "name": "stdout",
     "output_type": "stream",
     "text": [
      "285807\n",
      "100000001\n",
      "21696966\n",
      "CPU times: user 2min 31s, sys: 155 ms, total: 2min 31s\n",
      "Wall time: 2min 32s\n"
     ]
    }
   ],
   "source": [
    "%%time\n",
    "#!/usr/bin/env python\n",
    "import sys\n",
    "import gzip\n",
    "import csv\n",
    "\n",
    "#make sure that file exists\n",
    "try:\n",
    "    df = gzip.open(\"/projectnb/bf528/project_4_scrnaseq/fastq/SRR3879604/SRR3879604_1_bc.fastq.gz\", \"r\")\n",
    "except IndexError as ie:\n",
    "    print(\"Call sort.py file_to_open file_to_write\\n\")\n",
    "\n",
    "d ={} #dictionary for counts (barcode:count)\n",
    "i=0 #for debugging fd\n",
    "if df:\n",
    "    for line in df:\n",
    "        i+=1#fd\n",
    "        if i > 100000000: #fd\n",
    "            break #fd\n",
    "        #if line has barcode, continue. Else skip\n",
    "        elif line.startswith(b'@'): #after debugging, make this if\n",
    "            bc = line.decode(\"utf-8\").split(' ')\n",
    "            #Only use lines w/barcodes\n",
    "            if len(bc) > 2:\n",
    "                #concat bc1 and bc2\n",
    "                code = bc[1][4:] + bc[2][4:]\n",
    "                #\n",
    "                if code not in d:\n",
    "                    d[code] = 1\n",
    "                else:\n",
    "                    d[code]+=1 \n",
    "    \n",
    "print(len(d))\n",
    "print(i)\n",
    "print(sum(d.values()))\n"
   ]
  },
  {
   "cell_type": "code",
   "execution_count": 32,
   "metadata": {},
   "outputs": [
    {
     "name": "stdout",
     "output_type": "stream",
     "text": [
      "21651\n"
     ]
    }
   ],
   "source": [
    "print(sum(d.values()))"
   ]
  },
  {
   "cell_type": "code",
   "execution_count": 48,
   "metadata": {},
   "outputs": [
    {
     "name": "stdout",
     "output_type": "stream",
     "text": [
      "21651\n",
      "7556\n"
     ]
    }
   ],
   "source": [
    "#Test code for grouping barcodes\n",
    "\n",
    "popped = [] #dictionary of popped keys\n",
    "d2 = d.copy() #\n",
    "final = {}\n",
    "#compare all keys against each other\n",
    "for key, value in d.items():\n",
    "    p = []\n",
    "    #If key in second dictionary, delete it from there and continue. Else skip it\n",
    "    if key in d2:\n",
    "        d2.pop(key)\n",
    "        final[key]= value\n",
    "        #compare key to the rest of the keys\n",
    "        for key2, v2 in d2.items():\n",
    "            tf = match2(key, key2)\n",
    "            if tf <= 2 :\n",
    "                popped.append([key2, key, tf]) #for traceback\n",
    "                final[key] += v2\n",
    "                p.append(key2) #remember that this value has already been used\n",
    "    #set used values to 0\n",
    "    for val in p:\n",
    "        d2.pop(val)\n",
    "#Inputs two strings, tells # of mismatches\n",
    "#We allow deviations of 2 to be considered a match\n",
    "def match2(key1, key2):\n",
    "    score = 0\n",
    "    if len(key1) != len(key2):\n",
    "        return len(key1) + len(key2)\n",
    "    for i in range(len(key1)):\n",
    "            if key1[i] != key2[i]:\n",
    "                score += 1\n",
    "    return score\n",
    "                               \n",
    "print(sum(final.values()))\n",
    "print(len(final))"
   ]
  },
  {
   "cell_type": "code",
   "execution_count": 47,
   "metadata": {},
   "outputs": [
    {
     "name": "stdout",
     "output_type": "stream",
     "text": [
      "AGCACCACACTGGAGTAAG AGCACCACACTGGAGTAAG 0\n",
      "AGCACCACACTGGAGTAAG AGCACCACACTNGATAAAG 3\n",
      "AGCACCACACTGGAGTAAG AGCACCACACTAAAGAAAG 3\n",
      "AGCACCACACTGGAGTAAG AGCACCACACTGCACTCAG 3\n",
      "AGCACCACACTGGAGTAAG TGCCTCACACTGGAGTAAG 3\n",
      "AGCACCACACTNGATAAAG AGCACCACACTNGATAAAG 0\n",
      "AGCACCACACTNGATAAAG AGCACCACACTAAAGAAAG 3\n",
      "AGCACCACACTNGATAAAG AGCACCACACTGCACTCAG 5\n",
      "AGCACCACACTNGATAAAG TGCCTCACACTGGAGTAAG 6\n",
      "AGCACCACACTAAAGAAAG AGCACCACACTAAAGAAAG 0\n",
      "AGCACCACACTAAAGAAAG AGCACCACACTGCACTCAG 5\n",
      "AGCACCACACTAAAGAAAG TGCCTCACACTGGAGTAAG 6\n",
      "AGCACCACACTGCACTCAG AGCACCACACTGCACTCAG 0\n",
      "AGCACCACACTGCACTCAG TGCCTCACACTGGAGTAAG 6\n",
      "TGCCTCACACTGGAGTAAG TGCCTCACACTGGAGTAAG 0\n"
     ]
    }
   ],
   "source": [
    "#more test code for grouping bar codes\n",
    "x = [popped[10][1]]\n",
    "for l in popped:\n",
    "    if l[1] == x[0]:\n",
    "        x.append(l[0])\n",
    "y = len(x)\n",
    "for a in range(0,y):\n",
    "    for b in range(a,y):\n",
    "        c = match2(x[a],x[b])\n",
    "        print(x[a],x[b],c)"
   ]
  },
  {
   "cell_type": "code",
   "execution_count": 3,
   "metadata": {},
   "outputs": [],
   "source": [
    "#Code to write to csv \n",
    "#very incomplete code\n",
    "f = \"dict_test.csv\"\n",
    "with open(f, \"w\") as file:\n",
    "    w = csv.writer(file, delimiter=',')\n",
    "    for key, value in d.items():\n",
    "        w.writerow([key, value])"
   ]
  },
  {
   "cell_type": "code",
   "execution_count": 33,
   "metadata": {},
   "outputs": [
    {
     "name": "stdout",
     "output_type": "stream",
     "text": [
      "text.csv\n"
     ]
    }
   ],
   "source": [
    "f = \"/text.py\"\n",
    "if \"/\" in f:\n",
    "    f = f.split(\"/\")\n",
    "    f = f[len(f)-1]\n",
    "    f = ''.join(f)\n",
    "f = f.split(\".\")\n",
    "if len(f) > 1:\n",
    "    f = f[:len(f)-1]\n",
    "f = ''.join(f)\n",
    "f += \".csv\"\n",
    "\n",
    "print(f)"
   ]
  },
  {
   "cell_type": "code",
   "execution_count": 26,
   "metadata": {},
   "outputs": [
    {
     "name": "stdout",
     "output_type": "stream",
     "text": [
      "\\\n"
     ]
    }
   ],
   "source": []
  }
 ],
 "metadata": {
  "kernelspec": {
   "display_name": "Python 3",
   "language": "python",
   "name": "python3"
  },
  "language_info": {
   "codemirror_mode": {
    "name": "ipython",
    "version": 3
   },
   "file_extension": ".py",
   "mimetype": "text/x-python",
   "name": "python",
   "nbconvert_exporter": "python",
   "pygments_lexer": "ipython3",
   "version": "3.7.9"
  }
 },
 "nbformat": 4,
 "nbformat_minor": 4
}
